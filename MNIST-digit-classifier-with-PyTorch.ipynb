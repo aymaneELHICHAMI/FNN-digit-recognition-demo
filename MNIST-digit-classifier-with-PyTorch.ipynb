{
 "cells": [
  {
   "cell_type": "code",
   "execution_count": 22,
   "metadata": {},
   "outputs": [],
   "source": [
    "#Importing Libraries\n",
    "import numpy as np\n",
    "import pandas as pd\n",
    "import matplotlib.pyplot as plt\n",
    "\n",
    "import torch\n",
    "import torch.nn as nn\n",
    "from torch import optim\n",
    "\n",
    "import torchvision \n",
    "import torchvision.transforms as transforms\n",
    "\n",
    "#Device_config\n",
    "device = torch.device('cuda' if torch.cuda.is_available() else 'cpu')\n",
    "\n",
    "#Hyperparemeters (#to be tuned)\n",
    "input_size = 784 #28x28\n",
    "hidden_size = 100\n",
    "num_classes = 10\n",
    "num_epochs = 6\n",
    "batch_size = 100\n",
    "learning_rate = 0.003 "
   ]
  },
  {
   "cell_type": "code",
   "execution_count": null,
   "metadata": {},
   "outputs": [],
   "source": [
    "#Import Data\n",
    "train_dataset = torchvision.datasets.MNIST(root = './data',\n",
    "                                           train = True,\n",
    "                                           transform = transforms.ToTensor(),\n",
    "                                           download = True)\n",
    "\n",
    "test_dataset = torchvision.datasets.MNIST(root = './data',\n",
    "                                           train = False,\n",
    "                                           transform = transforms.ToTensor(),\n",
    "                                           download = True)\n",
    "\n",
    "train_loader = torch.utils.data.DataLoader(dataset = train_dataset,\n",
    "                                           batch_size = batch_size,\n",
    "                                           shuffle=True)\n",
    "\n",
    "test_loader = torch.utils.data.DataLoader(dataset = test_dataset,\n",
    "                                           batch_size = batch_size,\n",
    "                                           shuffle=False)"
   ]
  },
  {
   "cell_type": "code",
   "execution_count": 24,
   "metadata": {},
   "outputs": [
    {
     "data": {
      "text/plain": [
       "\"for i in range(6):\\n    plt.subplot(2, 3, i+1) #2 rows, 3 columns\\n    plt.imshow(samples[i][0], cmap='gray') #sample i in channel 0 (Cuz we have only 1 channel)\\nplt.show()\""
      ]
     },
     "execution_count": 24,
     "metadata": {},
     "output_type": "execute_result"
    }
   ],
   "source": [
    "#Exemples\n",
    "examples = iter(train_loader)\n",
    "samples, labels = examples.next()\n",
    "#print(samples.shape, labels.shape)\n",
    "\n",
    "\"\"\"for i in range(6):\n",
    "    plt.subplot(2, 3, i+1) #2 rows, 3 columns\n",
    "    plt.imshow(samples[i][0], cmap='gray') #sample i in channel 0 (Cuz we have only 1 channel)\n",
    "plt.show()\"\"\""
   ]
  },
  {
   "cell_type": "code",
   "execution_count": 25,
   "metadata": {},
   "outputs": [
    {
     "name": "stdout",
     "output_type": "stream",
     "text": [
      "epoch = 1/6, step = 100/600, loss = 0.5452\n",
      "epoch = 1/6, step = 200/600, loss = 0.2968\n",
      "epoch = 1/6, step = 300/600, loss = 0.4820\n",
      "epoch = 1/6, step = 400/600, loss = 0.0980\n",
      "epoch = 1/6, step = 500/600, loss = 0.1967\n",
      "epoch = 1/6, step = 600/600, loss = 0.2096\n",
      "epoch = 2/6, step = 100/600, loss = 0.0691\n",
      "epoch = 2/6, step = 200/600, loss = 0.1584\n",
      "epoch = 2/6, step = 300/600, loss = 0.1005\n",
      "epoch = 2/6, step = 400/600, loss = 0.0890\n",
      "epoch = 2/6, step = 500/600, loss = 0.0829\n",
      "epoch = 2/6, step = 600/600, loss = 0.1086\n",
      "epoch = 3/6, step = 100/600, loss = 0.0828\n",
      "epoch = 3/6, step = 200/600, loss = 0.0531\n",
      "epoch = 3/6, step = 300/600, loss = 0.0708\n",
      "epoch = 3/6, step = 400/600, loss = 0.2243\n",
      "epoch = 3/6, step = 500/600, loss = 0.1166\n",
      "epoch = 3/6, step = 600/600, loss = 0.0743\n",
      "epoch = 4/6, step = 100/600, loss = 0.0750\n",
      "epoch = 4/6, step = 200/600, loss = 0.0124\n",
      "epoch = 4/6, step = 300/600, loss = 0.0423\n",
      "epoch = 4/6, step = 400/600, loss = 0.0314\n",
      "epoch = 4/6, step = 500/600, loss = 0.1188\n",
      "epoch = 4/6, step = 600/600, loss = 0.0688\n",
      "epoch = 5/6, step = 100/600, loss = 0.0241\n",
      "epoch = 5/6, step = 200/600, loss = 0.0488\n",
      "epoch = 5/6, step = 300/600, loss = 0.0644\n",
      "epoch = 5/6, step = 400/600, loss = 0.0750\n",
      "epoch = 5/6, step = 500/600, loss = 0.0960\n",
      "epoch = 5/6, step = 600/600, loss = 0.0502\n",
      "epoch = 6/6, step = 100/600, loss = 0.0266\n",
      "epoch = 6/6, step = 200/600, loss = 0.0102\n",
      "epoch = 6/6, step = 300/600, loss = 0.0224\n",
      "epoch = 6/6, step = 400/600, loss = 0.0423\n",
      "epoch = 6/6, step = 500/600, loss = 0.0286\n",
      "epoch = 6/6, step = 600/600, loss = 0.0240\n"
     ]
    }
   ],
   "source": [
    "#NN Class\n",
    "class NeuralNet(nn.Module):\n",
    "    def __init__(self, input_size, hidden_size, num_classes):\n",
    "        super(NeuralNet, self).__init__() #super ?\n",
    "        self.input_size = input_size\n",
    "        self.l1 = nn.Linear(input_size, hidden_size)\n",
    "        self.relu = nn.ReLU()\n",
    "        self.l2 = nn.Linear(hidden_size, num_classes)\n",
    "        \n",
    "    def forward(self, x):\n",
    "        out = self.l1(x)\n",
    "        out = self.relu(out)\n",
    "        out = self.l2(out)\n",
    "        return out\n",
    "    \n",
    "model = NeuralNet(input_size, hidden_size, num_classes).to(device)\n",
    "\n",
    "#Loss & Optimizer\n",
    "criterion = nn.CrossEntropyLoss() #This will implement the softmax for us\n",
    "optimizer = optim.Adam(model.parameters(), lr=learning_rate)\n",
    "\n",
    "#Training_loop\n",
    "n_tot_steps = len(train_loader)\n",
    "for epoch in range(num_epochs):\n",
    "    for i, (images, labels) in enumerate(train_loader):\n",
    "        images = images.reshape(-1, 28*28).to(device)\n",
    "        labels = labels.to(device)\n",
    "        \n",
    "        #forward pass\n",
    "        outputs = model(images)\n",
    "        loss = criterion(outputs, labels)\n",
    "        \n",
    "        #backward\n",
    "        optimizer.zero_grad()\n",
    "        loss.backward()\n",
    "        optimizer.step()\n",
    "        \n",
    "        if (i+1)%100 == 0:\n",
    "            print(f'epoch = {epoch+1}/{num_epochs}, step = {i+1}/{n_tot_steps}, loss = {loss.item():.4f}')"
   ]
  },
  {
   "cell_type": "code",
   "execution_count": 26,
   "metadata": {},
   "outputs": [
    {
     "name": "stdout",
     "output_type": "stream",
     "text": [
      "accuracy = 97.61\n"
     ]
    }
   ],
   "source": [
    "#test\n",
    "with torch.no_grad(): #we don't want to calculate gradient for test set\n",
    "    n_correct = 0\n",
    "    n_samples = 0\n",
    "    for images, labels in test_loader:\n",
    "        images = images.reshape(-1, 28*28).to(device) #why the reshape ?\n",
    "        labels = labels.to(device)\n",
    "        outputs = model(images)\n",
    "        \n",
    "        #value, index\n",
    "        _, predictions = torch.max(outputs, 1) #torch.max ?\n",
    "        n_samples += labels.shape[0]\n",
    "        n_correct += (predictions==labels).sum().item()\n",
    "        \n",
    "    acc = 100.0 * n_correct/n_samples\n",
    "    print(f'accuracy = {acc}')"
   ]
  },
  {
   "cell_type": "code",
   "execution_count": 28,
   "metadata": {},
   "outputs": [
    {
     "name": "stdout",
     "output_type": "stream",
     "text": [
      "pred = 1 & label = 1\n"
     ]
    }
   ],
   "source": [
    "#Prediction on one test loader image\n",
    "\n",
    "testo = iter(test_loader)\n",
    "s , l = testo.next()\n",
    "\n",
    "with torch.no_grad():\n",
    "    image = s[2].reshape(-1, 28*28).to(device) #prediction of the label of the third image [2] in the test_dataset   \n",
    "    label = l[2].to(device)\n",
    "    outp = model(image)\n",
    "    _ , pred = torch.max(outp,1)\n",
    "    print(f'pred = {pred.item()} & label = {label}')"
   ]
  }
 ],
 "metadata": {
  "kernelspec": {
   "display_name": "Python 3",
   "language": "python",
   "name": "python3"
  },
  "language_info": {
   "codemirror_mode": {
    "name": "ipython",
    "version": 3
   },
   "file_extension": ".py",
   "mimetype": "text/x-python",
   "name": "python",
   "nbconvert_exporter": "python",
   "pygments_lexer": "ipython3",
   "version": "3.8.5"
  }
 },
 "nbformat": 4,
 "nbformat_minor": 4
}
